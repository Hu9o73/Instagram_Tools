{
 "cells": [
  {
   "cell_type": "markdown",
   "metadata": {
    "vscode": {
     "languageId": "plaintext"
    }
   },
   "source": [
    "# Who doesn't follow me ?\n",
    "\n",
    "Example usage to get the list of people that don't follow you back !"
   ]
  },
  {
   "cell_type": "code",
   "execution_count": null,
   "metadata": {},
   "outputs": [],
   "source": [
    "from utils import getFollowing, getFollowers\n",
    "\n",
    "# Copy here the name of your instagram-username folder, with a '/' at the end\n",
    "dir = \"instagram-username-example-folder/\"\n",
    "\n",
    "\n",
    "followers = getFollowers(dir)\n",
    "following = getFollowing(dir)\n",
    "array = []\n",
    "\n",
    "for user in following:\n",
    "    if user not in followers:\n",
    "        array.append(user)\n",
    "\n",
    "print(\"People who don't follow you back: \", array)\n",
    "print(\"Number of people who don't follow you back: \",len(array))"
   ]
  }
 ],
 "metadata": {
  "kernelspec": {
   "display_name": "Quantum_Env",
   "language": "python",
   "name": "python3"
  },
  "language_info": {
   "codemirror_mode": {
    "name": "ipython",
    "version": 3
   },
   "file_extension": ".py",
   "mimetype": "text/x-python",
   "name": "python",
   "nbconvert_exporter": "python",
   "pygments_lexer": "ipython3",
   "version": "3.11.4"
  }
 },
 "nbformat": 4,
 "nbformat_minor": 2
}
